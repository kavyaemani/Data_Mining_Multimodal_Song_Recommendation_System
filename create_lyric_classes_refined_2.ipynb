{
 "cells": [
  {
   "cell_type": "code",
   "execution_count": 1,
   "id": "9fb61e9e-d344-437d-b0b9-37415021e490",
   "metadata": {},
   "outputs": [],
   "source": [
    "# Song lyrics can fall under a wide variety of categories, depending on their themes, style, and the emotions they convey. Here are some common categories that song lyrics often fall into:\n",
    "\n",
    "# ### 1. **Love and Relationships**\n",
    "#    - **Romantic love**: Lyrics about falling in love, romantic experiences, or the pain of unrequited love.\n",
    "#    - **Heartbreak and loss**: Songs about breakups, lost love, and emotional pain.\n",
    "#    - **Longing and desire**: Expressing yearning, longing for someone, or romantic fantasies.\n",
    "#    - **Friendship**: Lyrics about platonic connections, support, and loyalty.\n",
    "\n",
    "# ### 2. **Self-Reflection and Personal Struggles**\n",
    "#    - **Self-empowerment**: Lyrics about overcoming challenges, building confidence, and finding strength.\n",
    "#    - **Mental health**: Songs that address depression, anxiety, and inner battles.\n",
    "#    - **Identity and self-discovery**: Lyrics about finding oneself, exploring identity, or self-expression.\n",
    "#    - **Regret and mistakes**: Acknowledging past errors, reflecting on personal growth, or seeking redemption.\n",
    "\n",
    "# ### 3. **Social and Political Themes**\n",
    "#    - **Revolution and protest**: Songs addressing social justice, activism, and resistance to oppression.\n",
    "#    - **Inequality and injustice**: Lyrics that highlight issues such as racism, discrimination, or economic disparity.\n",
    "#    - **Environment and nature**: Songs that focus on environmental concerns or the beauty of nature.\n",
    "#    - **War and peace**: Themes related to conflict, loss, and the longing for peace.\n",
    "\n",
    "# ### 4. **Celebration and Fun**\n",
    "#    - **Party and enjoyment**: Lyrics celebrating fun, partying, and carefree moments.\n",
    "#    - **Victory and triumph**: Songs that celebrate success, achievement, or overcoming obstacles.\n",
    "#    - **Gratitude and appreciation**: Expressing thanks or joy for good times, life, or others.\n",
    "\n",
    "# ### 5. **Philosophical and Existential**\n",
    "#    - **Life and death**: Themes of mortality, the meaning of life, or the afterlife.\n",
    "#    - **Fate and destiny**: Lyrics about the idea of destiny, chance, or the forces that shape our lives.\n",
    "#    - **Time and change**: Reflecting on how things evolve over time or the passage of life.\n",
    "\n",
    "# ### 6. **Storytelling and Narrative**\n",
    "#    - **Ballads and folk tales**: Telling a story or recounting a narrative, often about adventure, heroism, or tragedy.\n",
    "#    - **Personal stories**: Narratives drawn from real-life experiences or fictional events.\n",
    "#    - **Mythology and fantasy**: Lyrics that invoke mythical creatures, legends, or fantastical worlds.\n",
    "\n",
    "# ### 7. **Escape and Fantasy**\n",
    "#    - **Dreams and imagination**: Lyrics about escapism, daydreams, or creating an ideal world.\n",
    "#    - **Fantasy worlds**: Escaping to a different realm, space, or time through lyrics.\n",
    "#    - **Surreal experiences**: Lyrics that take on an abstract or nonsensical tone.\n",
    "\n",
    "# ### 8. **Spiritual and Religious**\n",
    "#    - **Faith and belief**: Lyrics that explore personal spirituality, faith in a higher power, or religious teachings.\n",
    "#    - **Redemption and salvation**: Themes around forgiveness, seeking redemption, or spiritual enlightenment.\n",
    "#    - **Hope and grace**: Lyrics that convey a sense of divine presence, hope, or divine intervention.\n",
    "\n",
    "# ### 9. **Cultural and Lifestyle**\n",
    "#    - **Travel and exploration**: Songs about discovering new places, wandering, or seeking adventure.\n",
    "#    - **Lifestyle and attitude**: Lyrics about particular subcultures, attitudes, or ways of life.\n",
    "#    - **Urban life**: Themes related to city living, hustle, and the challenges of modern life.\n",
    "\n",
    "# ### 10. **Fun and Humor**\n",
    "#    - **Humor and satire**: Lyrics that are funny, ironic, or satirical, often poking fun at society or human nature.\n",
    "#    - **Playfulness and quirkiness**: Lyrics that don’t take themselves too seriously and offer a light-hearted perspective.\n",
    "\n",
    "# These categories can often overlap, with many songs incorporating themes from multiple categories at once!"
   ]
  },
  {
   "cell_type": "code",
   "execution_count": 2,
   "id": "9bfc1879-7bde-4833-80b2-e0fae5057fa8",
   "metadata": {},
   "outputs": [],
   "source": [
    "import sys\n",
    "\n",
    "sys.path.append('c:/users/shubh/programming_work/virtual_envs/genai_exp_env/lib/site-packages')\n"
   ]
  },
  {
   "cell_type": "code",
   "execution_count": 3,
   "id": "3238a0cc-f6be-4284-acc1-c0ea7be84e6b",
   "metadata": {},
   "outputs": [
    {
     "name": "stderr",
     "output_type": "stream",
     "text": [
      "USER_AGENT environment variable not set, consider setting it to identify your requests.\n"
     ]
    }
   ],
   "source": [
    "import json\n",
    "import copy\n",
    "import numpy as np\n",
    "import os\n",
    "import bs4\n",
    "from langchain import hub\n",
    "from langchain_community.document_loaders import WebBaseLoader\n",
    "from langchain_core.output_parsers import StrOutputParser\n",
    "from langchain_core.runnables import RunnablePassthrough\n",
    "from langchain_openai import OpenAIEmbeddings\n",
    "from langchain_text_splitters import RecursiveCharacterTextSplitter\n",
    "from langchain_pinecone import PineconeVectorStore\n",
    "from pinecone import Pinecone\n",
    "import os\n",
    "import time\n",
    "import pandas as pd\n",
    "from fastembed import TextEmbedding\n",
    "import scipy.spatial.distance as spdist\n",
    "from langchain_core.retrievers import BaseRetriever\n",
    "from typing import List\n",
    "from langchain_openai import ChatOpenAI\n",
    "from langchain_core.prompt_values import ChatPromptValue\n",
    "from langchain_core.runnables import RunnableLambda\n",
    "from typing import Dict\n",
    "from openai import OpenAI\n",
    "import string\n",
    "from collections import Counter\n",
    "import re"
   ]
  },
  {
   "cell_type": "code",
   "execution_count": null,
   "id": "0b2bbb5b-3275-4d68-87fe-26a2d921d4fb",
   "metadata": {},
   "outputs": [],
   "source": []
  },
  {
   "cell_type": "code",
   "execution_count": 4,
   "id": "9c56c85b-b2f8-48f2-8ad1-5fe20cb68a35",
   "metadata": {},
   "outputs": [],
   "source": [
    "\n",
    "def strip_special_chars(s):\n",
    "    # Using regex to remove leading and trailing non-alphanumeric characters\n",
    "    return re.sub(r'^[^A-Za-z0-9]+|[^A-Za-z0-9]+$', '', s)\n"
   ]
  },
  {
   "cell_type": "code",
   "execution_count": null,
   "id": "e1eec80d-a836-46bc-a993-bdd4415e8159",
   "metadata": {},
   "outputs": [],
   "source": []
  },
  {
   "cell_type": "code",
   "execution_count": 5,
   "id": "3a0af32e-1dcb-4044-84fb-5817cc3a3428",
   "metadata": {},
   "outputs": [],
   "source": [
    "with open('openai_key.txt', 'r') as f:\n",
    "    OPENAI_KEY = f.read().strip()\n"
   ]
  },
  {
   "cell_type": "code",
   "execution_count": 6,
   "id": "1665b55d-1091-465f-b7a5-5a9349fae2d1",
   "metadata": {},
   "outputs": [],
   "source": [
    "client = OpenAI(api_key = OPENAI_KEY)"
   ]
  },
  {
   "cell_type": "code",
   "execution_count": 7,
   "id": "e1d22597-64c7-4350-8d71-48599f8777bc",
   "metadata": {},
   "outputs": [],
   "source": [
    "def chat_completion(prompt, temperature = 0.1):\n",
    "\n",
    "    global client\n",
    "    return client.chat.completions.create(\n",
    "        model=\"gpt-3.5-turbo\",\n",
    "        messages=[\n",
    "            {\"role\": \"system\", \"content\": \"You are a helpful assistant.\"},\n",
    "            {\n",
    "                \"role\": \"user\",\n",
    "                \"content\": prompt\n",
    "            }\n",
    "        ],\n",
    "        temperature=temperature\n",
    "    ).choices[0].message.content"
   ]
  },
  {
   "cell_type": "code",
   "execution_count": null,
   "id": "aa184752-8805-4c8d-b123-224a3f0eb486",
   "metadata": {},
   "outputs": [],
   "source": []
  },
  {
   "cell_type": "code",
   "execution_count": 8,
   "id": "c5c01f95-5fba-46e3-833c-ad61582cd014",
   "metadata": {},
   "outputs": [],
   "source": [
    "def chat_completion_2(message_history, temperature = 0.1):\n",
    "\n",
    "    global client\n",
    "    return client.chat.completions.create(\n",
    "        model=\"gpt-3.5-turbo\",\n",
    "        messages=message_history,\n",
    "        temperature=temperature\n",
    "    ).choices[0].message.content"
   ]
  },
  {
   "cell_type": "code",
   "execution_count": null,
   "id": "036f51fa-1966-44b9-b342-a4052fa373b0",
   "metadata": {},
   "outputs": [],
   "source": []
  },
  {
   "cell_type": "code",
   "execution_count": 9,
   "id": "dc6bc2b3-31b7-49c4-9e62-14d5bbd4cacb",
   "metadata": {
    "scrolled": true
   },
   "outputs": [
    {
     "data": {
      "text/plain": [
       "{'Love and Relationships': 0,\n",
       " 'Self-Reflection and Personal Struggles': 0,\n",
       " 'Social and Political Themes': 0,\n",
       " 'Celebration and Fun': 0,\n",
       " 'Philosophical and Existential': 0,\n",
       " 'Storytelling and Narrative': 0,\n",
       " 'Escape and Fantasy': 0,\n",
       " 'Spiritual and Religious': 0,\n",
       " 'Cultural and Lifestyle': 0,\n",
       " 'Fun and Humor': 0}"
      ]
     },
     "execution_count": 9,
     "metadata": {},
     "output_type": "execute_result"
    }
   ],
   "source": [
    "# youtube_comment_categories = [\n",
    "#     \"Humor and Memes\",\n",
    "#     \"Appreciation and Praise\",\n",
    "#     \"Questions and Curiosity\",\n",
    "#     \"Personal Stories and Experiences\",\n",
    "#     \"Nostalgia and Memories\"\n",
    "\n",
    "# ]\n",
    "\n",
    "\n",
    "youtube_comment_categories = [\n",
    "\"Love and Relationships\",\n",
    "\"Self-Reflection and Personal Struggles\",\n",
    "\"Social and Political Themes\",\n",
    "\"Celebration and Fun\",\n",
    "\"Philosophical and Existential\",\n",
    "\"Storytelling and Narrative\",\n",
    "\"Escape and Fantasy\",\n",
    "\"Spiritual and Religious\",    \n",
    "\"Cultural and Lifestyle\",\n",
    "\"Fun and Humor\"\n",
    "]\n",
    "\n",
    "\n",
    "\n",
    "\n",
    "comment_category_2_bool = dict()\n",
    "for cat in youtube_comment_categories:\n",
    "    comment_category_2_bool[cat] = 0\n",
    "\n",
    "comment_category_2_bool"
   ]
  },
  {
   "cell_type": "code",
   "execution_count": null,
   "id": "4a1c3caa-a221-4333-8c84-4e5e4579ef1f",
   "metadata": {},
   "outputs": [],
   "source": []
  },
  {
   "cell_type": "code",
   "execution_count": null,
   "id": "12898444-1953-4b75-b468-3fe890fc1452",
   "metadata": {},
   "outputs": [],
   "source": []
  },
  {
   "cell_type": "code",
   "execution_count": null,
   "id": "d3c21054-4678-4127-b89b-813b9e076619",
   "metadata": {},
   "outputs": [],
   "source": []
  },
  {
   "cell_type": "code",
   "execution_count": 10,
   "id": "21561dfd-2805-41ff-8836-ee4a7a2d26e7",
   "metadata": {},
   "outputs": [],
   "source": [
    "df = pd.read_csv(\"spotify_youtube_comments_combined.csv\")"
   ]
  },
  {
   "cell_type": "code",
   "execution_count": 11,
   "id": "417b12b8-f530-4e3d-9ae8-c870a2a895c6",
   "metadata": {},
   "outputs": [
    {
     "data": {
      "text/plain": [
       "80467"
      ]
     },
     "execution_count": 11,
     "metadata": {},
     "output_type": "execute_result"
    }
   ],
   "source": [
    "len(df)"
   ]
  },
  {
   "cell_type": "code",
   "execution_count": null,
   "id": "919f521c-e91b-47ee-a1e3-279d65ab2b04",
   "metadata": {},
   "outputs": [],
   "source": []
  },
  {
   "cell_type": "code",
   "execution_count": null,
   "id": "ce4519b7-533f-4ed9-9852-6da30001e736",
   "metadata": {},
   "outputs": [],
   "source": []
  },
  {
   "cell_type": "code",
   "execution_count": null,
   "id": "5b3fc228-6f16-41d6-95a8-4235b955e70d",
   "metadata": {},
   "outputs": [],
   "source": []
  },
  {
   "cell_type": "code",
   "execution_count": 12,
   "id": "6f12d0ca-cd2f-410c-9020-570cffbcbee6",
   "metadata": {},
   "outputs": [],
   "source": [
    "df['unique_id'] = [_ for _ in range( len(df) )]"
   ]
  },
  {
   "cell_type": "code",
   "execution_count": 13,
   "id": "b77a5e31-cb3c-4c12-a6a3-3ff5e76952db",
   "metadata": {
    "scrolled": true
   },
   "outputs": [
    {
     "data": {
      "text/html": [
       "<div>\n",
       "<style scoped>\n",
       "    .dataframe tbody tr th:only-of-type {\n",
       "        vertical-align: middle;\n",
       "    }\n",
       "\n",
       "    .dataframe tbody tr th {\n",
       "        vertical-align: top;\n",
       "    }\n",
       "\n",
       "    .dataframe thead th {\n",
       "        text-align: right;\n",
       "    }\n",
       "</style>\n",
       "<table border=\"1\" class=\"dataframe\">\n",
       "  <thead>\n",
       "    <tr style=\"text-align: right;\">\n",
       "      <th></th>\n",
       "      <th>Unnamed: 0</th>\n",
       "      <th>Artist</th>\n",
       "      <th>Url_spotify</th>\n",
       "      <th>Track</th>\n",
       "      <th>Album</th>\n",
       "      <th>Album_type</th>\n",
       "      <th>Uri</th>\n",
       "      <th>Danceability</th>\n",
       "      <th>Energy</th>\n",
       "      <th>Key</th>\n",
       "      <th>...</th>\n",
       "      <th>Url_youtube</th>\n",
       "      <th>Title</th>\n",
       "      <th>spotify_id</th>\n",
       "      <th>id</th>\n",
       "      <th>lyrics</th>\n",
       "      <th>youtube_video_id</th>\n",
       "      <th>video_id</th>\n",
       "      <th>comment</th>\n",
       "      <th>likes</th>\n",
       "      <th>unique_id</th>\n",
       "    </tr>\n",
       "  </thead>\n",
       "  <tbody>\n",
       "    <tr>\n",
       "      <th>0</th>\n",
       "      <td>0</td>\n",
       "      <td>Gorillaz</td>\n",
       "      <td>https://open.spotify.com/artist/3AA28KZvwAUcZu...</td>\n",
       "      <td>Feel Good Inc.</td>\n",
       "      <td>Demon Days</td>\n",
       "      <td>album</td>\n",
       "      <td>spotify:track:0d28khcov6AiegSCpG5TuT</td>\n",
       "      <td>0.818</td>\n",
       "      <td>0.705</td>\n",
       "      <td>6.0</td>\n",
       "      <td>...</td>\n",
       "      <td>https://www.youtube.com/watch?v=HyHNuVaZJ-k</td>\n",
       "      <td>Gorillaz - Feel Good Inc. (Official Video)</td>\n",
       "      <td>0d28khcov6AiegSCpG5TuT</td>\n",
       "      <td>0d28khcov6AiegSCpG5TuT</td>\n",
       "      <td>Feel good\\n Sha, sha-ba-da, sha-ba-da-ca, feel...</td>\n",
       "      <td>HyHNuVaZJ-k</td>\n",
       "      <td>HyHNuVaZJ-k</td>\n",
       "      <td>I love how Gorillaz has depressing meanings to...</td>\n",
       "      <td>14760.0</td>\n",
       "      <td>0</td>\n",
       "    </tr>\n",
       "    <tr>\n",
       "      <th>1</th>\n",
       "      <td>1</td>\n",
       "      <td>Gorillaz</td>\n",
       "      <td>https://open.spotify.com/artist/3AA28KZvwAUcZu...</td>\n",
       "      <td>Feel Good Inc.</td>\n",
       "      <td>Demon Days</td>\n",
       "      <td>album</td>\n",
       "      <td>spotify:track:0d28khcov6AiegSCpG5TuT</td>\n",
       "      <td>0.818</td>\n",
       "      <td>0.705</td>\n",
       "      <td>6.0</td>\n",
       "      <td>...</td>\n",
       "      <td>https://www.youtube.com/watch?v=HyHNuVaZJ-k</td>\n",
       "      <td>Gorillaz - Feel Good Inc. (Official Video)</td>\n",
       "      <td>0d28khcov6AiegSCpG5TuT</td>\n",
       "      <td>0d28khcov6AiegSCpG5TuT</td>\n",
       "      <td>Feel good\\n Sha, sha-ba-da, sha-ba-da-ca, feel...</td>\n",
       "      <td>HyHNuVaZJ-k</td>\n",
       "      <td>HyHNuVaZJ-k</td>\n",
       "      <td>It’s really crazy to realize how popular this ...</td>\n",
       "      <td>14226.0</td>\n",
       "      <td>1</td>\n",
       "    </tr>\n",
       "    <tr>\n",
       "      <th>2</th>\n",
       "      <td>2</td>\n",
       "      <td>Gorillaz</td>\n",
       "      <td>https://open.spotify.com/artist/3AA28KZvwAUcZu...</td>\n",
       "      <td>Feel Good Inc.</td>\n",
       "      <td>Demon Days</td>\n",
       "      <td>album</td>\n",
       "      <td>spotify:track:0d28khcov6AiegSCpG5TuT</td>\n",
       "      <td>0.818</td>\n",
       "      <td>0.705</td>\n",
       "      <td>6.0</td>\n",
       "      <td>...</td>\n",
       "      <td>https://www.youtube.com/watch?v=HyHNuVaZJ-k</td>\n",
       "      <td>Gorillaz - Feel Good Inc. (Official Video)</td>\n",
       "      <td>0d28khcov6AiegSCpG5TuT</td>\n",
       "      <td>0d28khcov6AiegSCpG5TuT</td>\n",
       "      <td>Feel good\\n Sha, sha-ba-da, sha-ba-da-ca, feel...</td>\n",
       "      <td>HyHNuVaZJ-k</td>\n",
       "      <td>HyHNuVaZJ-k</td>\n",
       "      <td>Feel good inc. sounds like it should either be...</td>\n",
       "      <td>12339.0</td>\n",
       "      <td>2</td>\n",
       "    </tr>\n",
       "    <tr>\n",
       "      <th>3</th>\n",
       "      <td>3</td>\n",
       "      <td>Gorillaz</td>\n",
       "      <td>https://open.spotify.com/artist/3AA28KZvwAUcZu...</td>\n",
       "      <td>Feel Good Inc.</td>\n",
       "      <td>Demon Days</td>\n",
       "      <td>album</td>\n",
       "      <td>spotify:track:0d28khcov6AiegSCpG5TuT</td>\n",
       "      <td>0.818</td>\n",
       "      <td>0.705</td>\n",
       "      <td>6.0</td>\n",
       "      <td>...</td>\n",
       "      <td>https://www.youtube.com/watch?v=HyHNuVaZJ-k</td>\n",
       "      <td>Gorillaz - Feel Good Inc. (Official Video)</td>\n",
       "      <td>0d28khcov6AiegSCpG5TuT</td>\n",
       "      <td>0d28khcov6AiegSCpG5TuT</td>\n",
       "      <td>Feel good\\n Sha, sha-ba-da, sha-ba-da-ca, feel...</td>\n",
       "      <td>HyHNuVaZJ-k</td>\n",
       "      <td>HyHNuVaZJ-k</td>\n",
       "      <td>The art style is just so intriguing. It’s like...</td>\n",
       "      <td>10088.0</td>\n",
       "      <td>3</td>\n",
       "    </tr>\n",
       "    <tr>\n",
       "      <th>4</th>\n",
       "      <td>4</td>\n",
       "      <td>Gorillaz</td>\n",
       "      <td>https://open.spotify.com/artist/3AA28KZvwAUcZu...</td>\n",
       "      <td>Feel Good Inc.</td>\n",
       "      <td>Demon Days</td>\n",
       "      <td>album</td>\n",
       "      <td>spotify:track:0d28khcov6AiegSCpG5TuT</td>\n",
       "      <td>0.818</td>\n",
       "      <td>0.705</td>\n",
       "      <td>6.0</td>\n",
       "      <td>...</td>\n",
       "      <td>https://www.youtube.com/watch?v=HyHNuVaZJ-k</td>\n",
       "      <td>Gorillaz - Feel Good Inc. (Official Video)</td>\n",
       "      <td>0d28khcov6AiegSCpG5TuT</td>\n",
       "      <td>0d28khcov6AiegSCpG5TuT</td>\n",
       "      <td>Feel good\\n Sha, sha-ba-da, sha-ba-da-ca, feel...</td>\n",
       "      <td>HyHNuVaZJ-k</td>\n",
       "      <td>HyHNuVaZJ-k</td>\n",
       "      <td>The way Murdocs bass playing is animated is so...</td>\n",
       "      <td>9490.0</td>\n",
       "      <td>4</td>\n",
       "    </tr>\n",
       "  </tbody>\n",
       "</table>\n",
       "<p>5 rows × 28 columns</p>\n",
       "</div>"
      ],
      "text/plain": [
       "   Unnamed: 0    Artist                                        Url_spotify  \\\n",
       "0           0  Gorillaz  https://open.spotify.com/artist/3AA28KZvwAUcZu...   \n",
       "1           1  Gorillaz  https://open.spotify.com/artist/3AA28KZvwAUcZu...   \n",
       "2           2  Gorillaz  https://open.spotify.com/artist/3AA28KZvwAUcZu...   \n",
       "3           3  Gorillaz  https://open.spotify.com/artist/3AA28KZvwAUcZu...   \n",
       "4           4  Gorillaz  https://open.spotify.com/artist/3AA28KZvwAUcZu...   \n",
       "\n",
       "            Track       Album Album_type  \\\n",
       "0  Feel Good Inc.  Demon Days      album   \n",
       "1  Feel Good Inc.  Demon Days      album   \n",
       "2  Feel Good Inc.  Demon Days      album   \n",
       "3  Feel Good Inc.  Demon Days      album   \n",
       "4  Feel Good Inc.  Demon Days      album   \n",
       "\n",
       "                                    Uri  Danceability  Energy  Key  ...  \\\n",
       "0  spotify:track:0d28khcov6AiegSCpG5TuT         0.818   0.705  6.0  ...   \n",
       "1  spotify:track:0d28khcov6AiegSCpG5TuT         0.818   0.705  6.0  ...   \n",
       "2  spotify:track:0d28khcov6AiegSCpG5TuT         0.818   0.705  6.0  ...   \n",
       "3  spotify:track:0d28khcov6AiegSCpG5TuT         0.818   0.705  6.0  ...   \n",
       "4  spotify:track:0d28khcov6AiegSCpG5TuT         0.818   0.705  6.0  ...   \n",
       "\n",
       "                                   Url_youtube  \\\n",
       "0  https://www.youtube.com/watch?v=HyHNuVaZJ-k   \n",
       "1  https://www.youtube.com/watch?v=HyHNuVaZJ-k   \n",
       "2  https://www.youtube.com/watch?v=HyHNuVaZJ-k   \n",
       "3  https://www.youtube.com/watch?v=HyHNuVaZJ-k   \n",
       "4  https://www.youtube.com/watch?v=HyHNuVaZJ-k   \n",
       "\n",
       "                                        Title              spotify_id  \\\n",
       "0  Gorillaz - Feel Good Inc. (Official Video)  0d28khcov6AiegSCpG5TuT   \n",
       "1  Gorillaz - Feel Good Inc. (Official Video)  0d28khcov6AiegSCpG5TuT   \n",
       "2  Gorillaz - Feel Good Inc. (Official Video)  0d28khcov6AiegSCpG5TuT   \n",
       "3  Gorillaz - Feel Good Inc. (Official Video)  0d28khcov6AiegSCpG5TuT   \n",
       "4  Gorillaz - Feel Good Inc. (Official Video)  0d28khcov6AiegSCpG5TuT   \n",
       "\n",
       "                       id                                             lyrics  \\\n",
       "0  0d28khcov6AiegSCpG5TuT  Feel good\\n Sha, sha-ba-da, sha-ba-da-ca, feel...   \n",
       "1  0d28khcov6AiegSCpG5TuT  Feel good\\n Sha, sha-ba-da, sha-ba-da-ca, feel...   \n",
       "2  0d28khcov6AiegSCpG5TuT  Feel good\\n Sha, sha-ba-da, sha-ba-da-ca, feel...   \n",
       "3  0d28khcov6AiegSCpG5TuT  Feel good\\n Sha, sha-ba-da, sha-ba-da-ca, feel...   \n",
       "4  0d28khcov6AiegSCpG5TuT  Feel good\\n Sha, sha-ba-da, sha-ba-da-ca, feel...   \n",
       "\n",
       "   youtube_video_id     video_id  \\\n",
       "0       HyHNuVaZJ-k  HyHNuVaZJ-k   \n",
       "1       HyHNuVaZJ-k  HyHNuVaZJ-k   \n",
       "2       HyHNuVaZJ-k  HyHNuVaZJ-k   \n",
       "3       HyHNuVaZJ-k  HyHNuVaZJ-k   \n",
       "4       HyHNuVaZJ-k  HyHNuVaZJ-k   \n",
       "\n",
       "                                             comment    likes unique_id  \n",
       "0  I love how Gorillaz has depressing meanings to...  14760.0         0  \n",
       "1  It’s really crazy to realize how popular this ...  14226.0         1  \n",
       "2  Feel good inc. sounds like it should either be...  12339.0         2  \n",
       "3  The art style is just so intriguing. It’s like...  10088.0         3  \n",
       "4  The way Murdocs bass playing is animated is so...   9490.0         4  \n",
       "\n",
       "[5 rows x 28 columns]"
      ]
     },
     "execution_count": 13,
     "metadata": {},
     "output_type": "execute_result"
    }
   ],
   "source": [
    "df.head()"
   ]
  },
  {
   "cell_type": "code",
   "execution_count": 14,
   "id": "c744dc3d-7881-4326-83b6-7e653f1cebfd",
   "metadata": {
    "scrolled": true
   },
   "outputs": [],
   "source": [
    "\n",
    "lyrics = list(df['lyrics'])\n",
    "# comments"
   ]
  },
  {
   "cell_type": "code",
   "execution_count": null,
   "id": "1a615716-cfa4-4565-a3f3-1faeaeb23f9c",
   "metadata": {},
   "outputs": [],
   "source": []
  },
  {
   "cell_type": "code",
   "execution_count": 15,
   "id": "c89fd164-d9e6-4bb7-bf16-9f7dfd22a990",
   "metadata": {},
   "outputs": [],
   "source": [
    "def check_if_categories_are_proper(llm_suggested_categories, message_history, counter, total_trials = 0):\n",
    "\n",
    "    if total_trials==3:\n",
    "        return (llm_suggested_categories, False)\n",
    "    \n",
    "    global youtube_comment_categories\n",
    "\n",
    "    global required_retries_list_of_tuples \n",
    "    \n",
    "    categories_list = [ strip_special_chars(category.strip(\" \").strip(\"'\").strip(\"\\n\") ) for category in llm_suggested_categories]\n",
    "\n",
    "    list_of_remaining_categories = list(set(categories_list) - set(youtube_comment_categories))\n",
    "    \n",
    "    if (len(list_of_remaining_categories )>0):\n",
    "\n",
    "        # llm_suggested_categories = chat_completion_2(prompt, temperature = 0.1).split(\",\")\n",
    "        print(f\"Requires retries - {llm_suggested_categories}\")\n",
    "        print(f\"Requires retries list - {categories_list}\")\n",
    "        print(f\"Requires retries remaining categories - {list_of_remaining_categories}\")\n",
    "        message_history.append({\"role\":\"assistant\", \"content\":f\"{llm_suggested_categories}\"})\n",
    "        message_history.append({\"role\":\"user\", \"content\": f\"Restrict the comma-separated response only to the list of relevant categories. Try again.\"})\n",
    "        llm_suggested_categories = chat_completion_2(message_history, temperature = 0.1).strip(\"[\").strip(\"]\").split(\",\")\n",
    "        llm_suggested_categories, sanity_check_passed_or_not = check_if_categories_are_proper( llm_suggested_categories, message_history, counter, total_trials = total_trials+1)\n",
    "        \n",
    "        required_retries_list_of_tuples.append( ( message_history, total_trials, counter ) )        \n",
    "        \n",
    "    else:\n",
    "        return (llm_suggested_categories, True)\n",
    "        \n",
    "    return (llm_suggested_categories, sanity_check_passed_or_not)"
   ]
  },
  {
   "cell_type": "code",
   "execution_count": 16,
   "id": "7fbde5fb-9c1f-45ee-89a2-36777b6ba984",
   "metadata": {},
   "outputs": [],
   "source": [
    "def retry_until_you_get_correct_categories(total_trials = 0):\n",
    "    pass"
   ]
  },
  {
   "cell_type": "code",
   "execution_count": null,
   "id": "62c0304d-9e58-4a04-b033-b9034d16c094",
   "metadata": {},
   "outputs": [],
   "source": []
  },
  {
   "cell_type": "code",
   "execution_count": 17,
   "id": "deced0ec-3ab3-4406-8b2e-367298002a8f",
   "metadata": {
    "scrolled": true
   },
   "outputs": [],
   "source": [
    "# df.to_csv(\"C:/Users/shubh/programming_work/git_repos/NU/courses_and_academics/data_mining/proj/refined/df_indexed.csv\")"
   ]
  },
  {
   "cell_type": "code",
   "execution_count": 18,
   "id": "79637c8d-fa79-4ef6-b9f4-edd9908e5c98",
   "metadata": {},
   "outputs": [],
   "source": [
    "list_of_tuples_of_skipped_indices_and_comments = list()"
   ]
  },
  {
   "cell_type": "code",
   "execution_count": null,
   "id": "f28d9510-496b-4051-aa6b-facc094a1c6e",
   "metadata": {},
   "outputs": [],
   "source": []
  },
  {
   "cell_type": "code",
   "execution_count": 19,
   "id": "0ce1e020-3a8e-4667-8d70-d3a6c923c1c4",
   "metadata": {},
   "outputs": [],
   "source": [
    "list_of_category_2_bools_per_comment = list()\n",
    "required_retries_list_of_tuples = list()"
   ]
  },
  {
   "cell_type": "code",
   "execution_count": null,
   "id": "534fc979-f7e9-4aa8-beef-7fd6b9f4627f",
   "metadata": {},
   "outputs": [],
   "source": []
  },
  {
   "cell_type": "code",
   "execution_count": null,
   "id": "880a68fa-70f4-4aa3-9263-2649cfeaf0ca",
   "metadata": {},
   "outputs": [],
   "source": []
  },
  {
   "cell_type": "code",
   "execution_count": null,
   "id": "85d47fe3-b162-4097-8d7e-4ea2552cb568",
   "metadata": {},
   "outputs": [],
   "source": []
  },
  {
   "cell_type": "code",
   "execution_count": 20,
   "id": "8e15d9e1-6e4c-41d8-a595-b5ad0cc91ba4",
   "metadata": {},
   "outputs": [],
   "source": [
    "\n",
    "file_path = \"C:/Users/shubh/programming_work/git_repos/NU/courses_and_academics/data_mining/proj/refined/index_lyric_categories_recent.csv\"\n"
   ]
  },
  {
   "cell_type": "code",
   "execution_count": null,
   "id": "3368fa74-de16-4955-98ae-808d7dceb46f",
   "metadata": {},
   "outputs": [],
   "source": []
  },
  {
   "cell_type": "code",
   "execution_count": 21,
   "id": "d9cb7f62-2830-4ed8-bd46-147b6e34dee2",
   "metadata": {},
   "outputs": [],
   "source": [
    "df_index_comment_categories = pd.DataFrame()\n",
    "does_df_exist = False"
   ]
  },
  {
   "cell_type": "code",
   "execution_count": 22,
   "id": "98e78bb2-9c31-4dd2-8976-179a3d8ef793",
   "metadata": {},
   "outputs": [
    {
     "name": "stdout",
     "output_type": "stream",
     "text": [
      "it's not there yet\n"
     ]
    }
   ],
   "source": [
    "if ( os.path.exists(file_path) and file_path.endswith('.csv') ):\n",
    "    print(\"found it\")\n",
    "    df_index_comment_categories = pd.read_csv(file_path, index_col=False)\n",
    "    does_df_exist = True\n",
    "\n",
    "else:\n",
    "    print(\"it's not there yet\")\n",
    "    df_index_comment_categories = pd.DataFrame()"
   ]
  },
  {
   "cell_type": "code",
   "execution_count": 23,
   "id": "548367d0-41c3-4838-a0ad-93d47517a9b7",
   "metadata": {},
   "outputs": [],
   "source": [
    "counter = len(df_index_comment_categories)\n",
    "# counter"
   ]
  },
  {
   "cell_type": "code",
   "execution_count": 24,
   "id": "e7c159e4-93a6-400d-8f10-e616bda303d8",
   "metadata": {},
   "outputs": [
    {
     "data": {
      "text/plain": [
       "0"
      ]
     },
     "execution_count": 24,
     "metadata": {},
     "output_type": "execute_result"
    }
   ],
   "source": [
    "counter"
   ]
  },
  {
   "cell_type": "code",
   "execution_count": 25,
   "id": "85f95c63-c8a0-48bd-9b0e-e290cbd92e21",
   "metadata": {},
   "outputs": [],
   "source": [
    "def stack_dataframes(df1, df2):\n",
    "    if df1.empty:\n",
    "        return df2.reset_index(drop=True)  # Ensure a clean index reset\n",
    "    return pd.concat([df1, df2], ignore_index=True)"
   ]
  },
  {
   "cell_type": "code",
   "execution_count": null,
   "id": "faa4573b-8189-4724-afe3-e7f055423e43",
   "metadata": {},
   "outputs": [],
   "source": []
  },
  {
   "cell_type": "code",
   "execution_count": 26,
   "id": "7bdb73d9-9f02-4094-8256-630ab8c247b9",
   "metadata": {},
   "outputs": [],
   "source": [
    "def tuples_to_json(tuples_list, keys = [\"counter\", \"llm_suggested_categories\", \"comment\"], json_file_path = \"C:/Users/shubh/programming_work/git_repos/NU/courses_and_academics/data_mining/proj/comment_classification_data/list_of_tuples_of_skipped_indices_and_lyrics_0.json\"):\n",
    "    dict_list = [dict(zip(keys, tup)) for tup in tuples_list]\n",
    "    with open(json_file_path, 'w') as f:\n",
    "        json.dump(dict_list, f, indent=4)\n",
    "\n",
    "\n"
   ]
  },
  {
   "cell_type": "code",
   "execution_count": null,
   "id": "4c6e1931-4370-4b90-ba7d-1469c3fcab7c",
   "metadata": {},
   "outputs": [],
   "source": []
  },
  {
   "cell_type": "code",
   "execution_count": null,
   "id": "13e41bf3-e040-4b97-8c52-980e39b53bec",
   "metadata": {},
   "outputs": [],
   "source": []
  },
  {
   "cell_type": "code",
   "execution_count": 27,
   "id": "6bfc05c8-581a-486d-9544-2259744088c3",
   "metadata": {},
   "outputs": [],
   "source": [
    "keys_for_tuples_of_skipped_indices_and_comments = [\"counter\", \"llm_suggested_categories\", \"lyric\"]"
   ]
  },
  {
   "cell_type": "code",
   "execution_count": null,
   "id": "3521b7a9-f453-4449-96f0-4613fd4b2fd7",
   "metadata": {},
   "outputs": [],
   "source": []
  },
  {
   "cell_type": "code",
   "execution_count": null,
   "id": "9c78426e-a07b-4985-8eff-94e1ed1f3d28",
   "metadata": {},
   "outputs": [],
   "source": []
  },
  {
   "cell_type": "code",
   "execution_count": 28,
   "id": "0efa709b-c8fe-4e3a-bb9e-6e6736a05cb2",
   "metadata": {},
   "outputs": [
    {
     "data": {
      "text/plain": [
       "0"
      ]
     },
     "execution_count": 28,
     "metadata": {},
     "output_type": "execute_result"
    }
   ],
   "source": [
    "counter"
   ]
  },
  {
   "cell_type": "code",
   "execution_count": null,
   "id": "314b371b-4ad2-4343-afe6-7589207b0aa5",
   "metadata": {},
   "outputs": [],
   "source": []
  },
  {
   "cell_type": "code",
   "execution_count": null,
   "id": "fe1ac503-0bf7-4991-8cdc-fad4ee82d73d",
   "metadata": {},
   "outputs": [],
   "source": []
  },
  {
   "cell_type": "code",
   "execution_count": null,
   "id": "9d128b69-90fb-451f-9787-a62ae26fcf65",
   "metadata": {},
   "outputs": [],
   "source": []
  },
  {
   "cell_type": "code",
   "execution_count": 29,
   "id": "4c1f69cd-f74a-4bf8-99b5-3ddab6c07e7f",
   "metadata": {},
   "outputs": [],
   "source": [
    "import time\n",
    "# time.sleep(3)"
   ]
  },
  {
   "cell_type": "code",
   "execution_count": null,
   "id": "d1f7b530-e73e-4cd7-867c-7c5a2e07e80b",
   "metadata": {},
   "outputs": [],
   "source": []
  },
  {
   "cell_type": "code",
   "execution_count": null,
   "id": "fc8c0c1f-d2f3-49d6-b3f3-56d4a6b3b7a3",
   "metadata": {},
   "outputs": [],
   "source": []
  },
  {
   "cell_type": "code",
   "execution_count": null,
   "id": "7baf0fab-1d00-4ce4-a559-0fbb792019a3",
   "metadata": {},
   "outputs": [],
   "source": []
  },
  {
   "cell_type": "code",
   "execution_count": null,
   "id": "41df5b54-f003-45fb-8d1f-05f3b65d0926",
   "metadata": {},
   "outputs": [],
   "source": []
  },
  {
   "cell_type": "code",
   "execution_count": null,
   "id": "3e6f3b3f-ddac-4dbd-b63e-50925bb9caa0",
   "metadata": {
    "scrolled": true
   },
   "outputs": [
    {
     "name": "stdout",
     "output_type": "stream",
     "text": [
      "current length of list_of_category_2_bools_per_comment : 50\n",
      "time out 3 seconds\n",
      "current length of list_of_category_2_bools_per_comment : 100\n",
      "time out 3 seconds\n",
      "current length of list_of_category_2_bools_per_comment : 150\n",
      "time out 3 seconds\n",
      "current length of list_of_category_2_bools_per_comment : 200\n",
      "time out 3 seconds\n",
      "current length of list_of_category_2_bools_per_comment : 250\n",
      "time out 3 seconds\n",
      "current length of list_of_category_2_bools_per_comment : 300\n",
      "time out 3 seconds\n",
      "current length of list_of_category_2_bools_per_comment : 350\n",
      "time out 3 seconds\n",
      "current length of list_of_category_2_bools_per_comment : 400\n",
      "time out 3 seconds\n",
      "current length of list_of_category_2_bools_per_comment : 450\n",
      "time out 3 seconds\n",
      "current length of list_of_category_2_bools_per_comment : 500\n",
      "time out 3 seconds\n",
      "current length of list_of_category_2_bools_per_comment : 550\n",
      "time out 3 seconds\n",
      "current length of list_of_category_2_bools_per_comment : 600\n",
      "time out 3 seconds\n",
      "current length of list_of_category_2_bools_per_comment : 650\n",
      "time out 3 seconds\n",
      "current length of list_of_category_2_bools_per_comment : 700\n",
      "time out 3 seconds\n",
      "current length of list_of_category_2_bools_per_comment : 750\n",
      "time out 3 seconds\n",
      "current length of list_of_category_2_bools_per_comment : 800\n",
      "time out 3 seconds\n",
      "current length of list_of_category_2_bools_per_comment : 850\n",
      "time out 3 seconds\n",
      "current length of list_of_category_2_bools_per_comment : 900\n",
      "time out 3 seconds\n",
      "current length of list_of_category_2_bools_per_comment : 950\n",
      "time out 3 seconds\n",
      "current length of list_of_category_2_bools_per_comment : 1000\n",
      "time out 3 seconds\n",
      "current length of list_of_category_2_bools_per_comment : 1050\n",
      "time out 3 seconds\n",
      "current length of list_of_category_2_bools_per_comment : 1100\n",
      "time out 3 seconds\n",
      "current length of list_of_category_2_bools_per_comment : 1150\n",
      "time out 3 seconds\n",
      "current length of list_of_category_2_bools_per_comment : 1200\n",
      "time out 3 seconds\n",
      "current length of list_of_category_2_bools_per_comment : 1250\n",
      "time out 3 seconds\n",
      "current length of list_of_category_2_bools_per_comment : 1300\n",
      "time out 3 seconds\n",
      "current length of list_of_category_2_bools_per_comment : 1350\n",
      "time out 3 seconds\n",
      "current length of list_of_category_2_bools_per_comment : 1400\n",
      "time out 3 seconds\n",
      "current length of list_of_category_2_bools_per_comment : 1450\n",
      "time out 3 seconds\n"
     ]
    }
   ],
   "source": [
    "df_recent_50 = pd.DataFrame()\n",
    "\n",
    "for lyric in lyrics[counter:5000]:\n",
    "\n",
    "    prompt = f\"{lyric}:\\n Classify this lyric into all the relevant categories from this list: - \\n{youtube_comment_categories}\\nReturn the response as a list of comma-separated categories.\"\n",
    "\n",
    "    # print(prompt)\n",
    "    \n",
    "    comment_category_2_bool = dict()\n",
    "    comment_category_2_bool['unique_id'] = counter\n",
    "    for cat in youtube_comment_categories:\n",
    "        comment_category_2_bool[cat] = 0\n",
    "\n",
    "    message_history = [{\"role\": \"system\", \"content\": \"You are a helpful assistant.\"}]\n",
    "    message_history.append( { \"role\": \"assistant\", \"content\": prompt } )\n",
    "    \n",
    "    llm_suggested_categories = chat_completion_2(message_history, temperature = 0.1).strip(\"[\").strip(\"]\").split(\",\")\n",
    "    # llm_suggested_categories = strip_special_chars(llm_suggested_categories)\n",
    "    # print(llm_suggested_categories)\n",
    "    # print(\"\\n\")\n",
    "    \n",
    "    llm_suggested_categories, sanity_check_passed_or_not = check_if_categories_are_proper(llm_suggested_categories, message_history, counter, total_trials = 0)\n",
    "\n",
    "    if not sanity_check_passed_or_not:\n",
    "        \n",
    "        list_of_tuples_of_skipped_indices_and_comments.append( (counter, llm_suggested_categories, comment) )\n",
    "\n",
    "        tuples_to_json(list_of_tuples_of_skipped_indices_and_comments)\n",
    "\n",
    "        for category in youtube_comment_categories:\n",
    "            comment_category_2_bool[category] = 0\n",
    "    \n",
    "        list_of_category_2_bools_per_comment.append( comment_category_2_bool )\n",
    "        counter += 1\n",
    "        continue\n",
    "    \n",
    "    categories_list = [ strip_special_chars(category.strip(\" \").strip(\"'\").strip(\"\\n\"))  for category in llm_suggested_categories]\n",
    "    \n",
    "    for category in categories_list:\n",
    "        comment_category_2_bool[category] = 1\n",
    "\n",
    "    list_of_category_2_bools_per_comment.append( comment_category_2_bool )\n",
    "    counter += 1\n",
    "\n",
    "    if (not counter%50):\n",
    "        \n",
    "        print(f\"current length of list_of_category_2_bools_per_comment : {len(list_of_category_2_bools_per_comment)}\")\n",
    "        df_recent_50 = pd.DataFrame( list_of_category_2_bools_per_comment[-50:] )\n",
    "        \n",
    "        df_index_comment_categories = stack_dataframes(df_index_comment_categories, df_recent_50)\n",
    "        \n",
    "        # df_index_comment_categories = df_index_comment_categories.drop_duplicates()\n",
    "\n",
    "        df_index_comment_categories.to_csv( file_path, index=False )\n",
    "        print(f\"time out 3 seconds\")\n",
    "        time.sleep(3)\n"
   ]
  },
  {
   "cell_type": "code",
   "execution_count": null,
   "id": "3f6b175c-c84a-4cc7-9519-9432f2e3c911",
   "metadata": {},
   "outputs": [],
   "source": []
  },
  {
   "cell_type": "code",
   "execution_count": null,
   "id": "d1d3cade-158d-48b6-a8f9-39712759095b",
   "metadata": {},
   "outputs": [],
   "source": []
  },
  {
   "cell_type": "code",
   "execution_count": null,
   "id": "dea67aeb-d727-4146-871a-a9d3834d9cae",
   "metadata": {},
   "outputs": [],
   "source": []
  },
  {
   "cell_type": "code",
   "execution_count": null,
   "id": "60c25c71-75e6-44fc-8779-af81547a79f3",
   "metadata": {},
   "outputs": [],
   "source": []
  },
  {
   "cell_type": "code",
   "execution_count": null,
   "id": "9fb81341-69f2-477e-aee9-a87e8fff3826",
   "metadata": {},
   "outputs": [],
   "source": []
  },
  {
   "cell_type": "code",
   "execution_count": null,
   "id": "4ef45a34-c9f0-4e7a-8ce7-b0b95da76c31",
   "metadata": {},
   "outputs": [],
   "source": []
  },
  {
   "cell_type": "code",
   "execution_count": null,
   "id": "cfe25f88-04de-4f5b-a1a4-21e494b97d09",
   "metadata": {},
   "outputs": [],
   "source": []
  },
  {
   "cell_type": "code",
   "execution_count": null,
   "id": "1f090e6c-c3aa-4844-aaea-71e31733afee",
   "metadata": {},
   "outputs": [],
   "source": []
  },
  {
   "cell_type": "code",
   "execution_count": null,
   "id": "dab88e2f-2a9c-4fc4-b77e-00633fa483e9",
   "metadata": {},
   "outputs": [],
   "source": []
  },
  {
   "cell_type": "code",
   "execution_count": null,
   "id": "6184b13b-c534-4071-b204-28846296329d",
   "metadata": {},
   "outputs": [],
   "source": []
  },
  {
   "cell_type": "code",
   "execution_count": null,
   "id": "2905b381-758c-4aac-a13f-dbf0f285b0c5",
   "metadata": {},
   "outputs": [],
   "source": []
  },
  {
   "cell_type": "code",
   "execution_count": null,
   "id": "127d4c7f-5f5a-4911-b22f-596b94d2c8d0",
   "metadata": {},
   "outputs": [],
   "source": []
  },
  {
   "cell_type": "code",
   "execution_count": null,
   "id": "9e77cb3f-6b36-4ffa-837b-c959bb907cc5",
   "metadata": {},
   "outputs": [],
   "source": []
  },
  {
   "cell_type": "code",
   "execution_count": null,
   "id": "d90c915c-c523-4e03-ba30-30868830751b",
   "metadata": {},
   "outputs": [],
   "source": []
  },
  {
   "cell_type": "code",
   "execution_count": null,
   "id": "6508e8f5-856c-4a5f-9710-5c8a27e35565",
   "metadata": {},
   "outputs": [],
   "source": []
  },
  {
   "cell_type": "code",
   "execution_count": null,
   "id": "98300e4a-7879-462b-b302-0ed9b9734582",
   "metadata": {},
   "outputs": [],
   "source": []
  },
  {
   "cell_type": "code",
   "execution_count": null,
   "id": "44a25b6d-74b5-4283-8bf8-22241224e2b0",
   "metadata": {},
   "outputs": [],
   "source": []
  },
  {
   "cell_type": "code",
   "execution_count": null,
   "id": "a78e88e3-aefe-4549-abaa-fc8852167a30",
   "metadata": {},
   "outputs": [],
   "source": []
  },
  {
   "cell_type": "code",
   "execution_count": null,
   "id": "6cd6a671-0c3e-4ac4-9c28-3c50a448863e",
   "metadata": {},
   "outputs": [],
   "source": []
  },
  {
   "cell_type": "code",
   "execution_count": null,
   "id": "543ea20e-ec8e-4905-b39d-84b372aaf3ea",
   "metadata": {},
   "outputs": [],
   "source": []
  },
  {
   "cell_type": "code",
   "execution_count": null,
   "id": "1f7365b2-23e8-4352-915c-62e5043787a3",
   "metadata": {},
   "outputs": [],
   "source": []
  },
  {
   "cell_type": "code",
   "execution_count": null,
   "id": "c3b0b6a6-857d-4516-8e5a-d4b9a6af7b5c",
   "metadata": {},
   "outputs": [],
   "source": []
  },
  {
   "cell_type": "code",
   "execution_count": 33,
   "id": "843d44e3-df3b-4f43-bae7-279c470cad4b",
   "metadata": {},
   "outputs": [
    {
     "data": {
      "text/plain": [
       "[(296,\n",
       "  [['[\"Humor and Memes\"', ' \"Recommendations and Suggestions\"]']],\n",
       "  'I like this version better')]"
      ]
     },
     "execution_count": 33,
     "metadata": {},
     "output_type": "execute_result"
    }
   ],
   "source": [
    "list_of_tuples_of_skipped_indices_and_comments"
   ]
  },
  {
   "cell_type": "code",
   "execution_count": null,
   "id": "e286120e-740e-4b00-9163-130f52878f8d",
   "metadata": {},
   "outputs": [],
   "source": []
  },
  {
   "cell_type": "code",
   "execution_count": null,
   "id": "edf6462e-fc3f-40f1-8352-316eaea6bbf0",
   "metadata": {},
   "outputs": [],
   "source": [
    "['[\"Humor and Memes\"', ' \"Recommendations and Suggestions\"]']"
   ]
  },
  {
   "cell_type": "code",
   "execution_count": null,
   "id": "1154b1bd-e885-41d1-bb3e-26efc528250f",
   "metadata": {},
   "outputs": [],
   "source": []
  },
  {
   "cell_type": "code",
   "execution_count": 31,
   "id": "62df7eb2-639f-45a1-995a-1d98c25658f7",
   "metadata": {},
   "outputs": [
    {
     "data": {
      "text/plain": [
       "0"
      ]
     },
     "execution_count": 31,
     "metadata": {},
     "output_type": "execute_result"
    }
   ],
   "source": [
    "50%50"
   ]
  },
  {
   "cell_type": "code",
   "execution_count": 32,
   "id": "70f4ab36-0494-4a0c-8d5d-6938031312e0",
   "metadata": {},
   "outputs": [
    {
     "data": {
      "text/plain": [
       "True"
      ]
     },
     "execution_count": 32,
     "metadata": {},
     "output_type": "execute_result"
    }
   ],
   "source": [
    "not 100%50"
   ]
  },
  {
   "cell_type": "code",
   "execution_count": null,
   "id": "9876a089-6647-480e-b9c1-3490626a9473",
   "metadata": {},
   "outputs": [],
   "source": []
  },
  {
   "cell_type": "code",
   "execution_count": null,
   "id": "019263e4-b911-46e9-827b-607da2bab1a7",
   "metadata": {},
   "outputs": [],
   "source": []
  },
  {
   "cell_type": "code",
   "execution_count": 33,
   "id": "b923595f-9bf2-4efc-a3ed-eae0bbb8d55b",
   "metadata": {},
   "outputs": [
    {
     "data": {
      "text/plain": [
       "200"
      ]
     },
     "execution_count": 33,
     "metadata": {},
     "output_type": "execute_result"
    }
   ],
   "source": [
    "20000//100"
   ]
  },
  {
   "cell_type": "code",
   "execution_count": null,
   "id": "ea380d7e-8832-4094-a5e3-2da648aed3c3",
   "metadata": {},
   "outputs": [],
   "source": []
  },
  {
   "cell_type": "code",
   "execution_count": null,
   "id": "bffeff76-bdf8-4fb0-aee6-dc6ea1025c26",
   "metadata": {},
   "outputs": [],
   "source": []
  },
  {
   "cell_type": "code",
   "execution_count": 69,
   "id": "1f13c8e5-6c64-434c-99f3-33c3cbbf99d7",
   "metadata": {},
   "outputs": [
    {
     "data": {
      "text/plain": [
       "1"
      ]
     },
     "execution_count": 69,
     "metadata": {},
     "output_type": "execute_result"
    }
   ],
   "source": [
    "len(required_retries_list_of_tuples)"
   ]
  },
  {
   "cell_type": "code",
   "execution_count": 70,
   "id": "10a8bed5-7929-494d-89dd-4e3e43f05b2b",
   "metadata": {
    "scrolled": true
   },
   "outputs": [
    {
     "data": {
      "text/plain": [
       "[([{'role': 'system', 'content': 'You are a helpful assistant.'},\n",
       "   {'role': 'assistant',\n",
       "    'content': '\"Would you like 2D or 3D animation for this video?\"\\n\\nGorillaz: \"yes\":\\n Classify this comment into all the relevant categories from this list: - \\n[\\'Humor and Memes\\', \\'Criticism and Complaints\\', \\'Appreciation and Praise\\', \\'Questions and Curiosity\\', \\'Personal Stories and Experiences\\', \\'Recommendations and Suggestions\\', \\'Nostalgia and Memories\\', \\'Off-Topic or Random Comments\\', \\'Arguments and Debates\\', \\'Technical Issues and Troubleshooting\\', \\'Time Stamps and Highlights\\', \\'Advertisements and Self-Promotion\\', \\'Emotional Reactions\\', \\'Song Lyrics and Quotes\\', \\'Engagement Boosting\\']\\nReturn a list of comma-separated responses.'},\n",
       "   {'role': 'assistant',\n",
       "    'content': \"['Questions and Curiosity', ' Recommendations and Suggestions\\\\n\\\\n']\"},\n",
       "   {'role': 'user',\n",
       "    'content': 'Restrict the comma-separated response only to the list of relevant categories. Try again.'}],\n",
       "  0,\n",
       "  96)]"
      ]
     },
     "execution_count": 70,
     "metadata": {},
     "output_type": "execute_result"
    }
   ],
   "source": [
    "required_retries_list_of_tuples"
   ]
  },
  {
   "cell_type": "code",
   "execution_count": 71,
   "id": "64d47f1e-44c4-48c9-ae05-daa7ca5dc091",
   "metadata": {},
   "outputs": [
    {
     "data": {
      "text/plain": [
       "{'unique_id': 96,\n",
       " 'Humor and Memes': 0,\n",
       " 'Criticism and Complaints': 0,\n",
       " 'Appreciation and Praise': 0,\n",
       " 'Questions and Curiosity': 1,\n",
       " 'Personal Stories and Experiences': 0,\n",
       " 'Recommendations and Suggestions': 1,\n",
       " 'Nostalgia and Memories': 0,\n",
       " 'Off-Topic or Random Comments': 0,\n",
       " 'Arguments and Debates': 0,\n",
       " 'Technical Issues and Troubleshooting': 0,\n",
       " 'Time Stamps and Highlights': 0,\n",
       " 'Advertisements and Self-Promotion': 0,\n",
       " 'Emotional Reactions': 0,\n",
       " 'Song Lyrics and Quotes': 0,\n",
       " 'Engagement Boosting': 0}"
      ]
     },
     "execution_count": 71,
     "metadata": {},
     "output_type": "execute_result"
    }
   ],
   "source": [
    "list_of_category_2_bools_per_comment[96]"
   ]
  },
  {
   "cell_type": "code",
   "execution_count": null,
   "id": "a506168d-6637-4156-b59e-f72bcb7729e2",
   "metadata": {},
   "outputs": [],
   "source": []
  },
  {
   "cell_type": "code",
   "execution_count": null,
   "id": "91777dcd-a2f6-4921-8550-a189e7b6f2c5",
   "metadata": {},
   "outputs": [],
   "source": []
  },
  {
   "cell_type": "code",
   "execution_count": 72,
   "id": "fd634cd7-d968-4368-ac1e-bcc9e9f6be91",
   "metadata": {},
   "outputs": [
    {
     "data": {
      "text/plain": [
       "100"
      ]
     },
     "execution_count": 72,
     "metadata": {},
     "output_type": "execute_result"
    }
   ],
   "source": [
    "counter"
   ]
  },
  {
   "cell_type": "code",
   "execution_count": null,
   "id": "a0c01db4-baae-45b3-a2ec-ba1ae341ec1d",
   "metadata": {},
   "outputs": [],
   "source": []
  },
  {
   "cell_type": "code",
   "execution_count": 73,
   "id": "394e60e1-f2c4-4ba6-ac42-e7b540ff0e54",
   "metadata": {},
   "outputs": [
    {
     "data": {
      "text/plain": [
       "{'unique_id': 31,\n",
       " 'Humor and Memes': 1,\n",
       " 'Criticism and Complaints': 0,\n",
       " 'Appreciation and Praise': 0,\n",
       " 'Questions and Curiosity': 0,\n",
       " 'Personal Stories and Experiences': 0,\n",
       " 'Recommendations and Suggestions': 0,\n",
       " 'Nostalgia and Memories': 0,\n",
       " 'Off-Topic or Random Comments': 0,\n",
       " 'Arguments and Debates': 0,\n",
       " 'Technical Issues and Troubleshooting': 0,\n",
       " 'Time Stamps and Highlights': 0,\n",
       " 'Advertisements and Self-Promotion': 0,\n",
       " 'Emotional Reactions': 1,\n",
       " 'Song Lyrics and Quotes': 1,\n",
       " 'Engagement Boosting': 0}"
      ]
     },
     "execution_count": 73,
     "metadata": {},
     "output_type": "execute_result"
    }
   ],
   "source": [
    "list_of_category_2_bools_per_comment[31]"
   ]
  },
  {
   "cell_type": "code",
   "execution_count": 22,
   "id": "5af8abb7-9f18-49d2-b9f8-5727121d9b5d",
   "metadata": {
    "scrolled": true
   },
   "outputs": [
    {
     "data": {
      "text/plain": [
       "[{'unique_id': 0,\n",
       "  'Humor and Memes': 0,\n",
       "  'Criticism and Complaints': 0,\n",
       "  'Appreciation and Praise': 1,\n",
       "  'Questions and Curiosity': 0,\n",
       "  'Personal Stories and Experiences': 0,\n",
       "  'Recommendations and Suggestions': 0,\n",
       "  'Nostalgia and Memories': 0,\n",
       "  'Off-Topic or Random Comments': 0,\n",
       "  'Arguments and Debates': 0,\n",
       "  'Technical Issues and Troubleshooting': 0,\n",
       "  'Time Stamps and Highlights': 0,\n",
       "  'Advertisements and Self-Promotion': 0,\n",
       "  'Emotional Reactions': 1,\n",
       "  'Song Lyrics and Quotes': 1,\n",
       "  'Engagement Boosting': 0},\n",
       " {'unique_id': 1,\n",
       "  'Humor and Memes': 0,\n",
       "  'Criticism and Complaints': 0,\n",
       "  'Appreciation and Praise': 1,\n",
       "  'Questions and Curiosity': 1,\n",
       "  'Personal Stories and Experiences': 0,\n",
       "  'Recommendations and Suggestions': 0,\n",
       "  'Nostalgia and Memories': 1,\n",
       "  'Off-Topic or Random Comments': 0,\n",
       "  'Arguments and Debates': 0,\n",
       "  'Technical Issues and Troubleshooting': 0,\n",
       "  'Time Stamps and Highlights': 0,\n",
       "  'Advertisements and Self-Promotion': 0,\n",
       "  'Emotional Reactions': 0,\n",
       "  'Song Lyrics and Quotes': 0,\n",
       "  'Engagement Boosting': 0},\n",
       " {'unique_id': 2,\n",
       "  'Humor and Memes': 0,\n",
       "  'Criticism and Complaints': 0,\n",
       "  'Appreciation and Praise': 0,\n",
       "  'Questions and Curiosity': 0,\n",
       "  'Personal Stories and Experiences': 0,\n",
       "  'Recommendations and Suggestions': 0,\n",
       "  'Nostalgia and Memories': 0,\n",
       "  'Off-Topic or Random Comments': 0,\n",
       "  'Arguments and Debates': 0,\n",
       "  'Technical Issues and Troubleshooting': 0,\n",
       "  'Time Stamps and Highlights': 0,\n",
       "  'Advertisements and Self-Promotion': 0,\n",
       "  'Emotional Reactions': 0,\n",
       "  'Song Lyrics and Quotes': 0,\n",
       "  'Engagement Boosting': 0,\n",
       "  \"'Humor and Memes'\": 1,\n",
       "  \"'Recommendations and Suggestions'\": 1,\n",
       "  \"'Nostalgia and Memories'\": 1},\n",
       " {'unique_id': 3,\n",
       "  'Humor and Memes': 0,\n",
       "  'Criticism and Complaints': 0,\n",
       "  'Appreciation and Praise': 1,\n",
       "  'Questions and Curiosity': 0,\n",
       "  'Personal Stories and Experiences': 0,\n",
       "  'Recommendations and Suggestions': 0,\n",
       "  'Nostalgia and Memories': 0,\n",
       "  'Off-Topic or Random Comments': 0,\n",
       "  'Arguments and Debates': 0,\n",
       "  'Technical Issues and Troubleshooting': 0,\n",
       "  'Time Stamps and Highlights': 0,\n",
       "  'Advertisements and Self-Promotion': 0,\n",
       "  'Emotional Reactions': 1,\n",
       "  'Song Lyrics and Quotes': 0,\n",
       "  'Engagement Boosting': 0},\n",
       " {'unique_id': 4,\n",
       "  'Humor and Memes': 0,\n",
       "  'Criticism and Complaints': 0,\n",
       "  'Appreciation and Praise': 1,\n",
       "  'Questions and Curiosity': 0,\n",
       "  'Personal Stories and Experiences': 0,\n",
       "  'Recommendations and Suggestions': 0,\n",
       "  'Nostalgia and Memories': 0,\n",
       "  'Off-Topic or Random Comments': 0,\n",
       "  'Arguments and Debates': 0,\n",
       "  'Technical Issues and Troubleshooting': 0,\n",
       "  'Time Stamps and Highlights': 0,\n",
       "  'Advertisements and Self-Promotion': 0,\n",
       "  'Emotional Reactions': 0,\n",
       "  'Song Lyrics and Quotes': 0,\n",
       "  'Engagement Boosting': 0},\n",
       " {'unique_id': 5,\n",
       "  'Humor and Memes': 1,\n",
       "  'Criticism and Complaints': 0,\n",
       "  'Appreciation and Praise': 1,\n",
       "  'Questions and Curiosity': 0,\n",
       "  'Personal Stories and Experiences': 0,\n",
       "  'Recommendations and Suggestions': 0,\n",
       "  'Nostalgia and Memories': 1,\n",
       "  'Off-Topic or Random Comments': 0,\n",
       "  'Arguments and Debates': 0,\n",
       "  'Technical Issues and Troubleshooting': 0,\n",
       "  'Time Stamps and Highlights': 1,\n",
       "  'Advertisements and Self-Promotion': 0,\n",
       "  'Emotional Reactions': 0,\n",
       "  'Song Lyrics and Quotes': 0,\n",
       "  'Engagement Boosting': 0},\n",
       " {'unique_id': 6,\n",
       "  'Humor and Memes': 0,\n",
       "  'Criticism and Complaints': 0,\n",
       "  'Appreciation and Praise': 1,\n",
       "  'Questions and Curiosity': 0,\n",
       "  'Personal Stories and Experiences': 0,\n",
       "  'Recommendations and Suggestions': 0,\n",
       "  'Nostalgia and Memories': 1,\n",
       "  'Off-Topic or Random Comments': 0,\n",
       "  'Arguments and Debates': 0,\n",
       "  'Technical Issues and Troubleshooting': 0,\n",
       "  'Time Stamps and Highlights': 0,\n",
       "  'Advertisements and Self-Promotion': 0,\n",
       "  'Emotional Reactions': 1,\n",
       "  'Song Lyrics and Quotes': 0,\n",
       "  'Engagement Boosting': 0},\n",
       " {'unique_id': 7,\n",
       "  'Humor and Memes': 0,\n",
       "  'Criticism and Complaints': 0,\n",
       "  'Appreciation and Praise': 1,\n",
       "  'Questions and Curiosity': 0,\n",
       "  'Personal Stories and Experiences': 0,\n",
       "  'Recommendations and Suggestions': 0,\n",
       "  'Nostalgia and Memories': 0,\n",
       "  'Off-Topic or Random Comments': 0,\n",
       "  'Arguments and Debates': 0,\n",
       "  'Technical Issues and Troubleshooting': 0,\n",
       "  'Time Stamps and Highlights': 0,\n",
       "  'Advertisements and Self-Promotion': 0,\n",
       "  'Emotional Reactions': 1,\n",
       "  'Song Lyrics and Quotes': 1,\n",
       "  'Engagement Boosting': 0},\n",
       " {'unique_id': 8,\n",
       "  'Humor and Memes': 0,\n",
       "  'Criticism and Complaints': 0,\n",
       "  'Appreciation and Praise': 1,\n",
       "  'Questions and Curiosity': 0,\n",
       "  'Personal Stories and Experiences': 1,\n",
       "  'Recommendations and Suggestions': 0,\n",
       "  'Nostalgia and Memories': 0,\n",
       "  'Off-Topic or Random Comments': 0,\n",
       "  'Arguments and Debates': 0,\n",
       "  'Technical Issues and Troubleshooting': 0,\n",
       "  'Time Stamps and Highlights': 0,\n",
       "  'Advertisements and Self-Promotion': 0,\n",
       "  'Emotional Reactions': 1,\n",
       "  'Song Lyrics and Quotes': 0,\n",
       "  'Engagement Boosting': 0},\n",
       " {'unique_id': 9,\n",
       "  'Humor and Memes': 0,\n",
       "  'Criticism and Complaints': 0,\n",
       "  'Appreciation and Praise': 1,\n",
       "  'Questions and Curiosity': 0,\n",
       "  'Personal Stories and Experiences': 1,\n",
       "  'Recommendations and Suggestions': 0,\n",
       "  'Nostalgia and Memories': 1,\n",
       "  'Off-Topic or Random Comments': 0,\n",
       "  'Arguments and Debates': 0,\n",
       "  'Technical Issues and Troubleshooting': 0,\n",
       "  'Time Stamps and Highlights': 0,\n",
       "  'Advertisements and Self-Promotion': 0,\n",
       "  'Emotional Reactions': 0,\n",
       "  'Song Lyrics and Quotes': 0,\n",
       "  'Engagement Boosting': 0}]"
      ]
     },
     "execution_count": 22,
     "metadata": {},
     "output_type": "execute_result"
    }
   ],
   "source": [
    "list_of_category_2_bools_per_comment[:10]"
   ]
  },
  {
   "cell_type": "code",
   "execution_count": null,
   "id": "025dd5e9-4c57-482d-8a6a-63026bcb7a63",
   "metadata": {},
   "outputs": [],
   "source": []
  },
  {
   "cell_type": "code",
   "execution_count": null,
   "id": "a55a70c4-fc58-42fb-b235-2f82f041cca0",
   "metadata": {},
   "outputs": [],
   "source": [
    "\"C:/Users/shubh/programming_work/git_repos/NU/courses_and_academics/data_mining/proj\""
   ]
  },
  {
   "cell_type": "code",
   "execution_count": 26,
   "id": "118b62bd-44ee-4248-a74d-c63572ff4ace",
   "metadata": {},
   "outputs": [],
   "source": [
    "df_comments_and_labels = pd.DataFrame(list_of_category_2_bools_per_comment)\n"
   ]
  },
  {
   "cell_type": "code",
   "execution_count": 28,
   "id": "d618443d-8935-43b3-ae35-d3411fb60dea",
   "metadata": {},
   "outputs": [
    {
     "data": {
      "text/plain": [
       "Index(['unique_id', 'Humor and Memes', 'Criticism and Complaints',\n",
       "       'Appreciation and Praise', 'Questions and Curiosity',\n",
       "       'Personal Stories and Experiences', 'Recommendations and Suggestions',\n",
       "       'Nostalgia and Memories', 'Off-Topic or Random Comments',\n",
       "       'Arguments and Debates',\n",
       "       ...\n",
       "       'Luis Barragan', '0:55 Escuela de Ballet Folklórico de México',\n",
       "       'Agustín Hernández', '1:25 Casa Gilardi', 'Luis Barragán',\n",
       "       '1:38 Cablebus Cuautepec', '2:18 Casa Estudio',\n",
       "       '2:39 Nido de Quetzalcóatl', 'Javier Senosiain',\n",
       "       ''Advertisements and Self-Promotion''],\n",
       "      dtype='object', length=115)"
      ]
     },
     "execution_count": 28,
     "metadata": {},
     "output_type": "execute_result"
    }
   ],
   "source": [
    "df_comments_and_labels.columns"
   ]
  },
  {
   "cell_type": "code",
   "execution_count": null,
   "id": "419003f6-dae1-4203-a17c-7fbace34b9e2",
   "metadata": {},
   "outputs": [],
   "source": []
  },
  {
   "cell_type": "code",
   "execution_count": null,
   "id": "91804d93-9207-4983-b0a5-87bad73c0b22",
   "metadata": {},
   "outputs": [],
   "source": []
  },
  {
   "cell_type": "code",
   "execution_count": 24,
   "id": "46b81820-2370-432e-9bc4-2856642400dd",
   "metadata": {},
   "outputs": [],
   "source": [
    "df_comments_and_labels.to_csv(\"C:/Users/shubh/programming_work/git_repos/NU/courses_and_academics/data_mining/proj/df_comments_and_labels.csv\")"
   ]
  },
  {
   "cell_type": "code",
   "execution_count": 25,
   "id": "218bd475-da3d-4a06-8d55-97360561796d",
   "metadata": {
    "scrolled": true
   },
   "outputs": [
    {
     "data": {
      "text/plain": [
       "[{'unique_id': 4017,\n",
       "  'Humor and Memes': 1,\n",
       "  'Criticism and Complaints': 0,\n",
       "  'Appreciation and Praise': 1,\n",
       "  'Questions and Curiosity': 0,\n",
       "  'Personal Stories and Experiences': 0,\n",
       "  'Recommendations and Suggestions': 0,\n",
       "  'Nostalgia and Memories': 0,\n",
       "  'Off-Topic or Random Comments': 0,\n",
       "  'Arguments and Debates': 0,\n",
       "  'Technical Issues and Troubleshooting': 0,\n",
       "  'Time Stamps and Highlights': 0,\n",
       "  'Advertisements and Self-Promotion': 0,\n",
       "  'Emotional Reactions': 0,\n",
       "  'Song Lyrics and Quotes': 0,\n",
       "  'Engagement Boosting': 0},\n",
       " {'unique_id': 4018,\n",
       "  'Humor and Memes': 0,\n",
       "  'Criticism and Complaints': 0,\n",
       "  'Appreciation and Praise': 0,\n",
       "  'Questions and Curiosity': 0,\n",
       "  'Personal Stories and Experiences': 0,\n",
       "  'Recommendations and Suggestions': 0,\n",
       "  'Nostalgia and Memories': 0,\n",
       "  'Off-Topic or Random Comments': 0,\n",
       "  'Arguments and Debates': 0,\n",
       "  'Technical Issues and Troubleshooting': 0,\n",
       "  'Time Stamps and Highlights': 0,\n",
       "  'Advertisements and Self-Promotion': 0,\n",
       "  'Emotional Reactions': 0,\n",
       "  'Song Lyrics and Quotes': 0,\n",
       "  'Engagement Boosting': 0,\n",
       "  \"'Humor and Memes'\": 1,\n",
       "  \"'Technical Issues and Troubleshooting'\": 1},\n",
       " {'unique_id': 4019,\n",
       "  'Humor and Memes': 0,\n",
       "  'Criticism and Complaints': 0,\n",
       "  'Appreciation and Praise': 0,\n",
       "  'Questions and Curiosity': 0,\n",
       "  'Personal Stories and Experiences': 0,\n",
       "  'Recommendations and Suggestions': 0,\n",
       "  'Nostalgia and Memories': 0,\n",
       "  'Off-Topic or Random Comments': 0,\n",
       "  'Arguments and Debates': 0,\n",
       "  'Technical Issues and Troubleshooting': 0,\n",
       "  'Time Stamps and Highlights': 0,\n",
       "  'Advertisements and Self-Promotion': 0,\n",
       "  'Emotional Reactions': 0,\n",
       "  'Song Lyrics and Quotes': 0,\n",
       "  'Engagement Boosting': 0,\n",
       "  \"'Humor and Memes'\": 1,\n",
       "  \"'Time Stamps and Highlights'\": 1,\n",
       "  \"'Song Lyrics and Quotes'\": 1},\n",
       " {'unique_id': 4020,\n",
       "  'Humor and Memes': 0,\n",
       "  'Criticism and Complaints': 0,\n",
       "  'Appreciation and Praise': 0,\n",
       "  'Questions and Curiosity': 0,\n",
       "  'Personal Stories and Experiences': 0,\n",
       "  'Recommendations and Suggestions': 0,\n",
       "  'Nostalgia and Memories': 0,\n",
       "  'Off-Topic or Random Comments': 0,\n",
       "  'Arguments and Debates': 0,\n",
       "  'Technical Issues and Troubleshooting': 0,\n",
       "  'Time Stamps and Highlights': 0,\n",
       "  'Advertisements and Self-Promotion': 0,\n",
       "  'Emotional Reactions': 1,\n",
       "  'Song Lyrics and Quotes': 1,\n",
       "  'Engagement Boosting': 0},\n",
       " {'unique_id': 4021,\n",
       "  'Humor and Memes': 0,\n",
       "  'Criticism and Complaints': 1,\n",
       "  'Appreciation and Praise': 0,\n",
       "  'Questions and Curiosity': 0,\n",
       "  'Personal Stories and Experiences': 0,\n",
       "  'Recommendations and Suggestions': 0,\n",
       "  'Nostalgia and Memories': 0,\n",
       "  'Off-Topic or Random Comments': 0,\n",
       "  'Arguments and Debates': 0,\n",
       "  'Technical Issues and Troubleshooting': 0,\n",
       "  'Time Stamps and Highlights': 0,\n",
       "  'Advertisements and Self-Promotion': 0,\n",
       "  'Emotional Reactions': 1,\n",
       "  'Song Lyrics and Quotes': 0,\n",
       "  'Engagement Boosting': 0},\n",
       " {'unique_id': 4022,\n",
       "  'Humor and Memes': 1,\n",
       "  'Criticism and Complaints': 0,\n",
       "  'Appreciation and Praise': 0,\n",
       "  'Questions and Curiosity': 0,\n",
       "  'Personal Stories and Experiences': 0,\n",
       "  'Recommendations and Suggestions': 0,\n",
       "  'Nostalgia and Memories': 0,\n",
       "  'Off-Topic or Random Comments': 0,\n",
       "  'Arguments and Debates': 0,\n",
       "  'Technical Issues and Troubleshooting': 0,\n",
       "  'Time Stamps and Highlights': 0,\n",
       "  'Advertisements and Self-Promotion': 0,\n",
       "  'Emotional Reactions': 0,\n",
       "  'Song Lyrics and Quotes': 1,\n",
       "  'Engagement Boosting': 1},\n",
       " {'unique_id': 4023,\n",
       "  'Humor and Memes': 0,\n",
       "  'Criticism and Complaints': 0,\n",
       "  'Appreciation and Praise': 1,\n",
       "  'Questions and Curiosity': 0,\n",
       "  'Personal Stories and Experiences': 0,\n",
       "  'Recommendations and Suggestions': 0,\n",
       "  'Nostalgia and Memories': 1,\n",
       "  'Off-Topic or Random Comments': 0,\n",
       "  'Arguments and Debates': 1,\n",
       "  'Technical Issues and Troubleshooting': 0,\n",
       "  'Time Stamps and Highlights': 0,\n",
       "  'Advertisements and Self-Promotion': 0,\n",
       "  'Emotional Reactions': 0,\n",
       "  'Song Lyrics and Quotes': 0,\n",
       "  'Engagement Boosting': 0},\n",
       " {'unique_id': 4024,\n",
       "  'Humor and Memes': 0,\n",
       "  'Criticism and Complaints': 0,\n",
       "  'Appreciation and Praise': 0,\n",
       "  'Questions and Curiosity': 0,\n",
       "  'Personal Stories and Experiences': 0,\n",
       "  'Recommendations and Suggestions': 0,\n",
       "  'Nostalgia and Memories': 0,\n",
       "  'Off-Topic or Random Comments': 0,\n",
       "  'Arguments and Debates': 0,\n",
       "  'Technical Issues and Troubleshooting': 0,\n",
       "  'Time Stamps and Highlights': 0,\n",
       "  'Advertisements and Self-Promotion': 0,\n",
       "  'Emotional Reactions': 0,\n",
       "  'Song Lyrics and Quotes': 0,\n",
       "  'Engagement Boosting': 0,\n",
       "  \"'Humor and Memes'\": 1,\n",
       "  \"'Appreciation and Praise'\": 1,\n",
       "  \"'Song Lyrics and Quotes'\": 1},\n",
       " {'unique_id': 4025,\n",
       "  'Humor and Memes': 0,\n",
       "  'Criticism and Complaints': 0,\n",
       "  'Appreciation and Praise': 0,\n",
       "  'Questions and Curiosity': 0,\n",
       "  'Personal Stories and Experiences': 0,\n",
       "  'Recommendations and Suggestions': 0,\n",
       "  'Nostalgia and Memories': 0,\n",
       "  'Off-Topic or Random Comments': 0,\n",
       "  'Arguments and Debates': 0,\n",
       "  'Technical Issues and Troubleshooting': 0,\n",
       "  'Time Stamps and Highlights': 0,\n",
       "  'Advertisements and Self-Promotion': 0,\n",
       "  'Emotional Reactions': 0,\n",
       "  'Song Lyrics and Quotes': 0,\n",
       "  'Engagement Boosting': 0,\n",
       "  \"'Appreciation and Praise'\": 1,\n",
       "  \"'Personal Stories and Experiences'\": 1,\n",
       "  \"'Nostalgia and Memories'\": 1},\n",
       " {'unique_id': 4026,\n",
       "  'Humor and Memes': 0,\n",
       "  'Criticism and Complaints': 0,\n",
       "  'Appreciation and Praise': 1,\n",
       "  'Questions and Curiosity': 0,\n",
       "  'Personal Stories and Experiences': 0,\n",
       "  'Recommendations and Suggestions': 0,\n",
       "  'Nostalgia and Memories': 0,\n",
       "  'Off-Topic or Random Comments': 0,\n",
       "  'Arguments and Debates': 0,\n",
       "  'Technical Issues and Troubleshooting': 0,\n",
       "  'Time Stamps and Highlights': 0,\n",
       "  'Advertisements and Self-Promotion': 0,\n",
       "  'Emotional Reactions': 0,\n",
       "  'Song Lyrics and Quotes': 1,\n",
       "  'Engagement Boosting': 0}]"
      ]
     },
     "execution_count": 25,
     "metadata": {},
     "output_type": "execute_result"
    }
   ],
   "source": [
    "list_of_category_2_bools_per_comment[-10:]"
   ]
  },
  {
   "cell_type": "code",
   "execution_count": 49,
   "id": "5cc3b611-d49c-4e8f-a8d2-af005ead7443",
   "metadata": {},
   "outputs": [],
   "source": [
    "\n",
    "\n",
    "# spotify song meta-data features :\n",
    "\n",
    "# Danceability\tEnergy\tKey\tLoudness\tSpeechiness\tAcousticness\tInstrumentalness\tLiveness\tValence\tTempo\tDuration_ms topic1 topic2 topic3\n",
    "\n",
    "\n",
    "\n",
    "\n",
    "#     \"Humor and Memes\" : 2,\n",
    "#     \"Criticism and Complaints\": 4,\n",
    "#     \"Appreciation and Praise\": 2,\n",
    "#     \"Questions and Curiosity\",\n",
    "#     \"Personal Stories and Experiences\",\n",
    "#     \"Recommendations and Suggestions\",\n",
    "#     \"Nostalgia and Memories\",\n",
    "#     \"Off-Topic or Random Comments\",\n",
    "#     \"Arguments and Debates\",\n",
    "#     \"Technical Issues and Troubleshooting\",\n",
    "#     \"Time Stamps and Highlights\",\n",
    "#     \"Advertisements and Self-Promotion\",\n",
    "#     \"Emotional Reactions\",\n",
    "#     \"Song Lyrics and Quotes\",\n",
    "#     \"Engagement Boosting\"\n",
    "\n",
    "\n",
    "\n",
    "\n"
   ]
  },
  {
   "cell_type": "code",
   "execution_count": null,
   "id": "716503cf-4fc8-40ff-bcc7-79a5b51b0e49",
   "metadata": {},
   "outputs": [],
   "source": []
  },
  {
   "cell_type": "code",
   "execution_count": null,
   "id": "45869519-10a9-435d-9569-75045d07696f",
   "metadata": {},
   "outputs": [],
   "source": []
  },
  {
   "cell_type": "code",
   "execution_count": null,
   "id": "4b626a23-2388-4ab2-a07c-68254dfe666b",
   "metadata": {},
   "outputs": [],
   "source": []
  },
  {
   "cell_type": "code",
   "execution_count": 50,
   "id": "ef9f0dbe-4dcd-49d0-8df5-ebcc6f0fd6d9",
   "metadata": {},
   "outputs": [],
   "source": [
    "# song-lyric-featues"
   ]
  },
  {
   "cell_type": "code",
   "execution_count": null,
   "id": "e2b62ab8-d339-41ff-b04d-de7788e92a2e",
   "metadata": {},
   "outputs": [],
   "source": []
  },
  {
   "cell_type": "code",
   "execution_count": null,
   "id": "e28236f5-973b-4c4b-87bb-6c910c8abc9b",
   "metadata": {},
   "outputs": [],
   "source": []
  },
  {
   "cell_type": "code",
   "execution_count": null,
   "id": "2ab4bd0d-b848-43f5-80aa-eed264358673",
   "metadata": {},
   "outputs": [],
   "source": []
  },
  {
   "cell_type": "code",
   "execution_count": null,
   "id": "91e77d99-7276-44e6-8d83-fcefee6596c5",
   "metadata": {},
   "outputs": [],
   "source": [
    "# association_rule_mining "
   ]
  },
  {
   "cell_type": "code",
   "execution_count": null,
   "id": "2b24bdbf-794d-4f4a-92b0-25db43c75847",
   "metadata": {},
   "outputs": [],
   "source": []
  },
  {
   "cell_type": "code",
   "execution_count": null,
   "id": "46b37367-8129-4163-906e-0b2192637bdd",
   "metadata": {},
   "outputs": [],
   "source": []
  },
  {
   "cell_type": "code",
   "execution_count": null,
   "id": "6aa2541f-c53f-4411-bc84-cbe29f94851b",
   "metadata": {},
   "outputs": [],
   "source": []
  },
  {
   "cell_type": "code",
   "execution_count": null,
   "id": "af59c3b9-4682-4c94-b65b-954791d92ce4",
   "metadata": {},
   "outputs": [],
   "source": []
  },
  {
   "cell_type": "code",
   "execution_count": null,
   "id": "6ad3e61c-23b1-45c6-936e-0be327137016",
   "metadata": {},
   "outputs": [],
   "source": []
  },
  {
   "cell_type": "code",
   "execution_count": null,
   "id": "9f328cf0-8c31-4999-b276-ea45a62c7524",
   "metadata": {},
   "outputs": [],
   "source": []
  },
  {
   "cell_type": "code",
   "execution_count": null,
   "id": "7a0d64c6-540f-4573-82a9-d38ffd51549a",
   "metadata": {},
   "outputs": [],
   "source": []
  }
 ],
 "metadata": {
  "kernelspec": {
   "display_name": "Python 3 (ipykernel)",
   "language": "python",
   "name": "python3"
  },
  "language_info": {
   "codemirror_mode": {
    "name": "ipython",
    "version": 3
   },
   "file_extension": ".py",
   "mimetype": "text/x-python",
   "name": "python",
   "nbconvert_exporter": "python",
   "pygments_lexer": "ipython3",
   "version": "3.11.4"
  }
 },
 "nbformat": 4,
 "nbformat_minor": 5
}
